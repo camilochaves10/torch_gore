{
 "cells": [
  {
   "cell_type": "code",
   "execution_count": 1,
   "id": "ed02512c-1b27-4c12-826e-1ca28d33aa48",
   "metadata": {},
   "outputs": [],
   "source": [
    "import os\n",
    "import torch\n",
    "from torch import nn\n",
    "from torch.utils.data import DataLoader\n",
    "from torchvision import datasets, transforms"
   ]
  },
  {
   "cell_type": "code",
   "execution_count": 2,
   "id": "b3fe1a91-01c3-4cff-a546-e3998a20582e",
   "metadata": {},
   "outputs": [
    {
     "name": "stdout",
     "output_type": "stream",
     "text": [
      "Using cpu device\n"
     ]
    }
   ],
   "source": [
    "device = \"cuda\" if torch.cuda.is_available() else \"cpu\"\n",
    "print(f\"Using {device} device\")"
   ]
  },
  {
   "cell_type": "code",
   "execution_count": 3,
   "id": "247e3449-f666-4153-899b-a4e56be5d201",
   "metadata": {},
   "outputs": [],
   "source": [
    "# Every nn.Module subclass implements the operations on input data in the forward method.\n",
    "class NeuralNetwork(nn.Module):\n",
    "    def __init__(self):\n",
    "        super(NeuralNetwork, self).__init__()\n",
    "        self.flatten = nn.Flatten()\n",
    "        self.linear_relu_stack = nn.Sequential(\n",
    "            nn.Linear(28*28, 512),\n",
    "            nn.ReLU(),\n",
    "            nn.Linear(512, 512),\n",
    "            nn.ReLU(),\n",
    "            nn.Linear(512, 10),\n",
    "        )\n",
    "        \n",
    "    def forward(self, x):\n",
    "        x = self.flatten(x)\n",
    "        logits = self.linear_relu_stack(x)\n",
    "        return logits\n",
    "        \n",
    "    "
   ]
  },
  {
   "cell_type": "code",
   "execution_count": 4,
   "id": "c68b28ec-42da-46eb-a9d5-918d12b9f1eb",
   "metadata": {},
   "outputs": [
    {
     "name": "stdout",
     "output_type": "stream",
     "text": [
      "NeuralNetwork(\n",
      "  (flatten): Flatten(start_dim=1, end_dim=-1)\n",
      "  (linear_relu_stack): Sequential(\n",
      "    (0): Linear(in_features=784, out_features=512, bias=True)\n",
      "    (1): ReLU()\n",
      "    (2): Linear(in_features=512, out_features=512, bias=True)\n",
      "    (3): ReLU()\n",
      "    (4): Linear(in_features=512, out_features=10, bias=True)\n",
      "  )\n",
      ")\n"
     ]
    }
   ],
   "source": [
    "model = NeuralNetwork().to(device)\n",
    "print(model)"
   ]
  },
  {
   "cell_type": "code",
   "execution_count": 10,
   "id": "af30c790-8c74-4ccd-81d7-298f7261fa5b",
   "metadata": {},
   "outputs": [
    {
     "name": "stdout",
     "output_type": "stream",
     "text": [
      "Predicted class: tensor([7])\n"
     ]
    }
   ],
   "source": [
    "X = torch.rand(1,28,28, device=device)\n",
    "logits = model(X)\n",
    "pred_prob = nn.Softmax(dim=1)(logits)\n",
    "y_pred = pred_prob.argmax(1)\n",
    "print(f\"Predicted class: {y_pred}\")"
   ]
  },
  {
   "cell_type": "code",
   "execution_count": 11,
   "id": "54d58b9b-8276-4b0c-b278-fa2d296a5eaa",
   "metadata": {},
   "outputs": [
    {
     "name": "stdout",
     "output_type": "stream",
     "text": [
      "torch.Size([3, 28, 28])\n"
     ]
    }
   ],
   "source": [
    "input_image = torch.rand(3,28,28)\n",
    "print(input_image.size())"
   ]
  },
  {
   "cell_type": "code",
   "execution_count": 12,
   "id": "c49d0e7d-7d2a-40fe-b293-0c2c1844a9f4",
   "metadata": {},
   "outputs": [
    {
     "name": "stdout",
     "output_type": "stream",
     "text": [
      "torch.Size([3, 784])\n"
     ]
    }
   ],
   "source": [
    "flatten = nn.Flatten()\n",
    "flat_image = flatten(input_image)\n",
    "print(flat_image.size())"
   ]
  },
  {
   "cell_type": "code",
   "execution_count": 13,
   "id": "9d69121d-84b6-4cf9-aa9d-1143c35412a5",
   "metadata": {},
   "outputs": [
    {
     "name": "stdout",
     "output_type": "stream",
     "text": [
      "torch.Size([3, 20])\n"
     ]
    }
   ],
   "source": [
    "layer1 = nn.Linear(in_features=28*28, out_features=20)\n",
    "hidden1 = layer1(flat_image)\n",
    "print(hidden1.size())"
   ]
  },
  {
   "cell_type": "code",
   "execution_count": 14,
   "id": "6e1de53e-82ce-461b-aac6-0b4bead6a7cb",
   "metadata": {},
   "outputs": [
    {
     "name": "stdout",
     "output_type": "stream",
     "text": [
      "Before ReLU: tensor([[ 0.2068,  0.1245,  0.2245, -0.1019, -0.1740, -0.0752,  0.5011,  0.8532,\n",
      "         -0.2201,  0.0484,  0.5526,  0.2189, -0.0933, -0.5377,  0.5373,  0.2395,\n",
      "          0.4925,  0.1943,  0.0580, -0.0128],\n",
      "        [ 0.0838,  0.5145,  0.4393, -0.1005, -0.1170, -0.0891,  0.4374,  0.4132,\n",
      "         -0.3424,  0.2374,  0.3959, -0.0219, -0.0438, -0.5122,  0.4342,  0.2401,\n",
      "          0.5084, -0.0153,  0.2750, -0.0817],\n",
      "        [ 0.1221,  0.4598,  0.4241, -0.0226, -0.0726,  0.1750,  0.1989,  0.7867,\n",
      "         -0.7859,  0.0363,  0.0357,  0.1641, -0.1087, -0.4167,  0.3922,  0.2796,\n",
      "          0.2504,  0.0261,  0.0104, -0.0732]], grad_fn=<AddmmBackward0>)\n",
      "\n",
      "\n",
      "After ReLU: tensor([[0.2068, 0.1245, 0.2245, 0.0000, 0.0000, 0.0000, 0.5011, 0.8532, 0.0000,\n",
      "         0.0484, 0.5526, 0.2189, 0.0000, 0.0000, 0.5373, 0.2395, 0.4925, 0.1943,\n",
      "         0.0580, 0.0000],\n",
      "        [0.0838, 0.5145, 0.4393, 0.0000, 0.0000, 0.0000, 0.4374, 0.4132, 0.0000,\n",
      "         0.2374, 0.3959, 0.0000, 0.0000, 0.0000, 0.4342, 0.2401, 0.5084, 0.0000,\n",
      "         0.2750, 0.0000],\n",
      "        [0.1221, 0.4598, 0.4241, 0.0000, 0.0000, 0.1750, 0.1989, 0.7867, 0.0000,\n",
      "         0.0363, 0.0357, 0.1641, 0.0000, 0.0000, 0.3922, 0.2796, 0.2504, 0.0261,\n",
      "         0.0104, 0.0000]], grad_fn=<ReluBackward0>)\n"
     ]
    }
   ],
   "source": [
    "print(f\"Before ReLU: {hidden1}\\n\\n\")\n",
    "hidden1 = nn.ReLU()(hidden1)\n",
    "print(f\"After ReLU: {hidden1}\")"
   ]
  },
  {
   "cell_type": "code",
   "execution_count": 15,
   "id": "58aafdcc-bd0f-4b20-b0cf-ca962710f864",
   "metadata": {},
   "outputs": [],
   "source": [
    "seq_modules = nn.Sequential(\n",
    "    flatten,\n",
    "    layer1,\n",
    "    nn.ReLU(),\n",
    "    nn.Linear(20, 10)\n",
    ")\n",
    "input_image = torch.rand(3,28,28)\n",
    "logits = seq_modules(input_image)"
   ]
  },
  {
   "cell_type": "code",
   "execution_count": 16,
   "id": "b10908f8-1545-4783-a6a3-ae447244642d",
   "metadata": {},
   "outputs": [],
   "source": [
    "softmax = nn.Softmax(dim=1)\n",
    "pred_probab = softmax(logits)"
   ]
  },
  {
   "cell_type": "code",
   "execution_count": 17,
   "id": "036761a2-7317-418b-b7c9-c5e777a791e5",
   "metadata": {},
   "outputs": [
    {
     "data": {
      "text/plain": [
       "tensor([[0.0854, 0.1455, 0.1176, 0.0971, 0.1232, 0.1008, 0.0980, 0.0707, 0.0991,\n",
       "         0.0624],\n",
       "        [0.0911, 0.1366, 0.1204, 0.0860, 0.1136, 0.1066, 0.1033, 0.0716, 0.1059,\n",
       "         0.0649],\n",
       "        [0.0829, 0.1379, 0.1303, 0.0903, 0.1129, 0.1003, 0.0961, 0.0719, 0.1055,\n",
       "         0.0719]], grad_fn=<SoftmaxBackward0>)"
      ]
     },
     "execution_count": 17,
     "metadata": {},
     "output_type": "execute_result"
    }
   ],
   "source": [
    "pred_probab"
   ]
  },
  {
   "cell_type": "code",
   "execution_count": 18,
   "id": "eee72e89-8fbb-44e6-a3a2-6d634afaa3d6",
   "metadata": {},
   "outputs": [
    {
     "name": "stdout",
     "output_type": "stream",
     "text": [
      "Model structure: NeuralNetwork(\n",
      "  (flatten): Flatten(start_dim=1, end_dim=-1)\n",
      "  (linear_relu_stack): Sequential(\n",
      "    (0): Linear(in_features=784, out_features=512, bias=True)\n",
      "    (1): ReLU()\n",
      "    (2): Linear(in_features=512, out_features=512, bias=True)\n",
      "    (3): ReLU()\n",
      "    (4): Linear(in_features=512, out_features=10, bias=True)\n",
      "  )\n",
      ")\n",
      "\n",
      "\n",
      "Layer: linear_relu_stack.0.weight | Size: torch.Size([512, 784]) | Values : tensor([[ 0.0304,  0.0148, -0.0109,  ..., -0.0137,  0.0131, -0.0348],\n",
      "        [-0.0297, -0.0087,  0.0088,  ..., -0.0243,  0.0102, -0.0170]],\n",
      "       grad_fn=<SliceBackward0>) \n",
      "\n",
      "Layer: linear_relu_stack.0.bias | Size: torch.Size([512]) | Values : tensor([-0.0170,  0.0193], grad_fn=<SliceBackward0>) \n",
      "\n",
      "Layer: linear_relu_stack.2.weight | Size: torch.Size([512, 512]) | Values : tensor([[ 0.0014, -0.0078, -0.0422,  ...,  0.0312,  0.0311, -0.0207],\n",
      "        [-0.0361, -0.0247,  0.0191,  ...,  0.0115,  0.0345,  0.0036]],\n",
      "       grad_fn=<SliceBackward0>) \n",
      "\n",
      "Layer: linear_relu_stack.2.bias | Size: torch.Size([512]) | Values : tensor([0.0298, 0.0340], grad_fn=<SliceBackward0>) \n",
      "\n",
      "Layer: linear_relu_stack.4.weight | Size: torch.Size([10, 512]) | Values : tensor([[-0.0078, -0.0069,  0.0134,  ..., -0.0302,  0.0396,  0.0219],\n",
      "        [ 0.0067, -0.0202,  0.0027,  ...,  0.0050, -0.0348,  0.0228]],\n",
      "       grad_fn=<SliceBackward0>) \n",
      "\n",
      "Layer: linear_relu_stack.4.bias | Size: torch.Size([10]) | Values : tensor([-0.0261,  0.0135], grad_fn=<SliceBackward0>) \n",
      "\n"
     ]
    }
   ],
   "source": [
    "print(f\"Model structure: {model}\\n\\n\")\n",
    "\n",
    "for name, param in model.named_parameters():\n",
    "    print(f\"Layer: {name} | Size: {param.size()} | Values : {param[:2]} \\n\")"
   ]
  },
  {
   "cell_type": "code",
   "execution_count": null,
   "id": "4412282c-4018-467f-8532-ce9623f4307d",
   "metadata": {},
   "outputs": [],
   "source": []
  }
 ],
 "metadata": {
  "kernelspec": {
   "display_name": "Python 3 (ipykernel)",
   "language": "python",
   "name": "python3"
  },
  "language_info": {
   "codemirror_mode": {
    "name": "ipython",
    "version": 3
   },
   "file_extension": ".py",
   "mimetype": "text/x-python",
   "name": "python",
   "nbconvert_exporter": "python",
   "pygments_lexer": "ipython3",
   "version": "3.10.8"
  }
 },
 "nbformat": 4,
 "nbformat_minor": 5
}
