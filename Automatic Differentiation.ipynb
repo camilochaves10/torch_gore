{
 "cells": [
  {
   "cell_type": "code",
   "execution_count": 1,
   "id": "c3aca840-d108-4e8e-b8f5-c274f72c099a",
   "metadata": {},
   "outputs": [],
   "source": [
    "import torch"
   ]
  },
  {
   "cell_type": "code",
   "execution_count": 3,
   "id": "afd84d5b-bf3f-4dab-a31d-f2c2ad4d77ec",
   "metadata": {},
   "outputs": [],
   "source": [
    "x = torch.ones(5)\n",
    "y = torch.zeros(3)\n",
    "w = torch.randn(5,3, requires_grad =True)\n",
    "b = torch.randn(3, requires_grad = True)\n",
    "Z = torch.matmul(x, w) + b\n",
    "loss = torch.nn.functional.binary_cross_entropy_with_logits(Z, y)\n"
   ]
  },
  {
   "cell_type": "code",
   "execution_count": 5,
   "id": "497d0b34-3871-41c3-9443-6b2b6eae6daf",
   "metadata": {},
   "outputs": [
    {
     "name": "stdout",
     "output_type": "stream",
     "text": [
      "Gradient function for z = <AddBackward0 object at 0x7fb0222c5e10>\n",
      "Gradient function for loss = <BinaryCrossEntropyWithLogitsBackward0 object at 0x7fb0222c5ba0>\n"
     ]
    }
   ],
   "source": [
    "print(f\"Gradient function for z = {Z.grad_fn}\")\n",
    "print(f\"Gradient function for loss = {loss.grad_fn}\")"
   ]
  },
  {
   "cell_type": "code",
   "execution_count": 6,
   "id": "5761e56e-19e4-40c5-b8e2-bfd82a93d1e0",
   "metadata": {},
   "outputs": [],
   "source": [
    "loss.backward()"
   ]
  },
  {
   "cell_type": "code",
   "execution_count": 7,
   "id": "143f2ad1-3b2f-445c-a76c-4b5eac522940",
   "metadata": {},
   "outputs": [
    {
     "data": {
      "text/plain": [
       "tensor([[0.3297, 0.2693, 0.2867],\n",
       "        [0.3297, 0.2693, 0.2867],\n",
       "        [0.3297, 0.2693, 0.2867],\n",
       "        [0.3297, 0.2693, 0.2867],\n",
       "        [0.3297, 0.2693, 0.2867]])"
      ]
     },
     "execution_count": 7,
     "metadata": {},
     "output_type": "execute_result"
    }
   ],
   "source": [
    "w.grad"
   ]
  },
  {
   "cell_type": "code",
   "execution_count": 8,
   "id": "b3e4014f-dc22-4bbd-843b-5a34d1b26b9b",
   "metadata": {},
   "outputs": [
    {
     "data": {
      "text/plain": [
       "tensor([0.3297, 0.2693, 0.2867])"
      ]
     },
     "execution_count": 8,
     "metadata": {},
     "output_type": "execute_result"
    }
   ],
   "source": [
    "b.grad"
   ]
  },
  {
   "cell_type": "code",
   "execution_count": null,
   "id": "212444f8-d8c1-448f-8961-7fe42d8a61d6",
   "metadata": {},
   "outputs": [],
   "source": []
  }
 ],
 "metadata": {
  "kernelspec": {
   "display_name": "Python 3 (ipykernel)",
   "language": "python",
   "name": "python3"
  },
  "language_info": {
   "codemirror_mode": {
    "name": "ipython",
    "version": 3
   },
   "file_extension": ".py",
   "mimetype": "text/x-python",
   "name": "python",
   "nbconvert_exporter": "python",
   "pygments_lexer": "ipython3",
   "version": "3.10.8"
  }
 },
 "nbformat": 4,
 "nbformat_minor": 5
}
